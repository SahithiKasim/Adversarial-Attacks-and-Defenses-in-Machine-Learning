{
 "cells": [
  {
   "cell_type": "markdown",
   "metadata": {
    "id": "6Ggya0mzv0MO"
   },
   "source": [
    "# Assignment 1"
   ]
  },
  {
   "cell_type": "code",
   "execution_count": 1,
   "metadata": {
    "id": "awRoi4dUv0MQ"
   },
   "outputs": [],
   "source": [
    "# Imports.\n",
    "import random\n",
    "import network.network as Network\n",
    "import network.mnist_loader as mnist_loader\n",
    "import pickle\n",
    "import matplotlib.pyplot as plt\n",
    "import numpy as np\n",
    "# Set the random seed. DO NOT CHANGE THIS!\n",
    "seedVal = 41\n",
    "random.seed(seedVal)\n",
    "np.random.seed(seedVal)\n",
    "\n",
    "%matplotlib inline"
   ]
  },
  {
   "cell_type": "markdown",
   "metadata": {
    "id": "MSoHXst4v0MR"
   },
   "source": [
    "Use a pre-trained network. It has been saved as a pickle file. Load the model, and continue.\n",
    "The network has only one hidden layer of 30 units, 784 input units (MNIST images are $ 28 \\times 28 = 784 $ pixels large), and 10 output units. All the activations are sigmoidal."
   ]
  },
  {
   "cell_type": "code",
   "execution_count": 2,
   "metadata": {
    "id": "3BJ_QyOsv0MS"
   },
   "outputs": [],
   "source": [
    "# Load the pre-trained model.\n",
    "with open('network/trained_network.pkl', 'rb') as f:\n",
    "    u = pickle._Unpickler(f)\n",
    "    u.encoding = 'latin1'\n",
    "    net = u.load()\n",
    "\n",
    "# Helpful function to load the MNIST data.\n",
    "training_data, validation_data, test_data = mnist_loader.load_data_wrapper()"
   ]
  },
  {
   "cell_type": "markdown",
   "metadata": {
    "id": "JN7_fD0qv0MS"
   },
   "source": [
    "The neural network is pretrained, so it should already be set up to predict characters. Run `predict(n)` to evaluate the $ n^{th} $ digit in the test set using the network. You should see that even this relatively simple network works really well (~97% accuracy). The output of the network is a one-hot vector indicating the network's predictions:"
   ]
  },
  {
   "cell_type": "code",
   "execution_count": 3,
   "metadata": {
    "colab": {
     "base_uri": "https://localhost:8080/",
     "height": 698
    },
    "id": "iYnOhgCYv0MS",
    "outputId": "a0e31ed8-964b-41cb-cf7c-dce6f229a6d9"
   },
   "outputs": [
    {
     "name": "stdout",
     "output_type": "stream",
     "text": [
      "Network output: \n",
      "[[0.]\n",
      " [0.]\n",
      " [0.]\n",
      " [0.]\n",
      " [0.]\n",
      " [0.]\n",
      " [0.]\n",
      " [0.]\n",
      " [1.]\n",
      " [0.]]\n",
      "\n",
      "Network prediction: 8\n",
      "\n",
      "Actual image: \n"
     ]
    },
    {
     "data": {
      "image/png": "[encoded data removed]",
      "text/plain": [
       "<Figure size 432x288 with 1 Axes>"
      ]
     },
     "metadata": {
      "needs_background": "light"
     },
     "output_type": "display_data"
    }
   ],
   "source": [
    "def predict(n):\n",
    "    # Get the data from the test set\n",
    "    x = test_data[n][0]\n",
    "\n",
    "    # Print the prediction of the network\n",
    "    print('Network output: \\n' + str(np.round(net.feedforward(x), 2)) + '\\n')\n",
    "    print('Network prediction: ' + str(np.argmax(net.feedforward(x))) + '\\n')\n",
    "    print('Actual image: ')\n",
    "\n",
    "    # Draw the image\n",
    "    plt.imshow(x.reshape((28,28)), cmap='Greys')\n",
    "\n",
    "# Replace the argument with any number between 0 and 9999\n",
    "predict(8384)"
   ]
  },
  {
   "cell_type": "markdown",
   "metadata": {
    "id": "mluPPHm3v0MT"
   },
   "source": [
    "To actually generate adversarial examples we solve a minimization problem. We do this by setting a \"goal\" label called $ \\vec y_{goal} $ (for instance, if we wanted the network to think the adversarial image is an 8, then we would choose $ \\vec y_{goal} $ to be a one-hot vector with the eighth entry being 1). Now we define a cost function:\n",
    "\n",
    "$$ C = \\frac{1}{2} \\|\\vec y_{goal} - \\hat y(\\vec x)\\|^2_2 $$\n",
    "\n",
    "where $ \\| \\cdot \\|^2_2 $ is the squared Euclidean norm and $ \\hat y $ is the network's output. It is a function of $ \\vec x $, the input image to the network, so we write $ \\hat y(\\vec x) $. Our goal is to find an $ \\vec x $ such that $ C $ is minimized. Hopefully this makes sense, because if we find an image $ \\vec x $ that minimizes $ C $ then that means the output of the network when given $ \\vec x $ is close to our desired output, $ \\vec y_{goal} $. So in full mathy language, our optimization problem is:\n",
    "\n",
    "$$ \\arg \\min_{\\vec x} C(\\vec x) $$\n",
    "\n",
    "that is, find the $ \\vec x $ that minimizes the cost $ C $.\n",
    "\n",
    "To actually do this we can do gradient descent on $ C $. Start with an initially random vector $ \\vec x $ and take steps (changing $ \\vec x $) gradually in the direction opposite of the gradient $ \\nabla_x C $. To actually get these derivatives we can perform backpropagation on the network. In contrast to training a network, where we perform gradient descent on the weights and biases, when we create adversarial examples we hold the weights and biases constant (because we don't want to change the network!), and change the inputs to our network."
   ]
  },
  {
   "cell_type": "markdown",
   "metadata": {
    "id": "4_R8pmTVv0MU"
   },
   "source": [
    "Helper functions to evaluate the non-linearity and it's derivative:"
   ]
  },
  {
   "cell_type": "code",
   "execution_count": 4,
   "metadata": {
    "id": "uI5J0ZHXv0MU"
   },
   "outputs": [],
   "source": [
    "def sigmoid(z):\n",
    "    \"\"\"The sigmoid function.\"\"\"\n",
    "    return 1.0/(1.0+np.exp(-z))\n",
    "\n",
    "def sigmoid_prime(z):\n",
    "    \"\"\"Derivative of the sigmoid function.\"\"\"\n",
    "    return sigmoid(z)*(1-sigmoid(z))"
   ]
  },
  {
   "cell_type": "markdown",
   "metadata": {
    "id": "GqbEl1Fuv0MU"
   },
   "source": [
    "Also, a function to find the gradient derivatives of the cost function, $ \\nabla_x C $ with respect to the input $ \\vec x $, with a goal label of $ \\vec y_{goal} $. (Don't worry too much about the implementation, just know it calculates derivatives)."
   ]
  },
  {
   "cell_type": "code",
   "execution_count": 5,
   "metadata": {
    "id": "YvpuNGXdv0MU"
   },
   "outputs": [],
   "source": [
    "def input_derivative(net, x, y):\n",
    "    \"\"\" Calculate derivatives wrt the inputs\"\"\"\n",
    "    nabla_b = [np.zeros(b.shape) for b in net.biases]\n",
    "    nabla_w = [np.zeros(w.shape) for w in net.weights]\n",
    "\n",
    "    # feedforward\n",
    "    activation = x\n",
    "    activations = [x] # list to store all the activations, layer by layer\n",
    "    zs = [] # list to store all the z vectors, layer by layer\n",
    "    for b, w in zip(net.biases, net.weights):\n",
    "        z = np.dot(w, activation)+b\n",
    "        zs.append(z)\n",
    "        activation = sigmoid(z)\n",
    "        activations.append(activation)\n",
    "\n",
    "    # backward pass\n",
    "    delta = net.cost_derivative(activations[-1], y) * \\\n",
    "        sigmoid_prime(zs[-1])\n",
    "    nabla_b[-1] = delta\n",
    "    nabla_w[-1] = np.dot(delta, activations[-2].transpose())\n",
    "\n",
    "    for l in range(2, net.num_layers):\n",
    "        z = zs[-l]\n",
    "        sp = sigmoid_prime(z)\n",
    "        delta = np.dot(net.weights[-l+1].transpose(), delta) * sp\n",
    "        nabla_b[-l] = delta\n",
    "        nabla_w[-l] = np.dot(delta, activations[-l-1].transpose())\n",
    "\n",
    "    # Return derivatives WRT to input\n",
    "    return net.weights[0].T.dot(delta)"
   ]
  },
  {
   "cell_type": "markdown",
   "metadata": {
    "id": "HU6mOSzgv0MV"
   },
   "source": [
    "The actual function that generates adversarial examples and a wrapper function:"
   ]
  },
  {
   "cell_type": "markdown",
   "metadata": {
    "id": "MC3KdXb6v0MV"
   },
   "source": [
    "## (a) Non Targeted Attack"
   ]
  },
  {
   "cell_type": "code",
   "execution_count": 6,
   "metadata": {
    "id": "-cT-lHVEv0MV"
   },
   "outputs": [],
   "source": [
    "def nonTargetedAdversarial(net, n, steps, eta):\n",
    "    \"\"\"\n",
    "    net : network object\n",
    "        neural network instance to use\n",
    "    n : integer\n",
    "        our goal label (just an int, the function transforms it into a one-hot vector)\n",
    "    steps : integer\n",
    "        number of steps for gradient descent\n",
    "    eta : float\n",
    "        step size for gradient descent\n",
    "    \"\"\"\n",
    "\n",
    "    # Create a random image to initialize gradient descent with\n",
    "    x = np.random.rand(28*28,1) # Assuming MNIST images are 28x28 pixels\n",
    "\n",
    "\n",
    "    #x = np.random.rand(28*28,1)\n",
    "#     print(x.shape)\n",
    "    # Set the goal output with the same shape as the output layer of your neural network\n",
    "    goal = np.zeros((10,1))  # Replace net.num_outputs with the correct value\n",
    "\n",
    "    goal[n] = 1\n",
    "#     print(goal.shape)\n",
    "    # Gradient descent on the input\n",
    "    for i in range(steps):\n",
    "        # Calculate the derivative\n",
    "        gradient = input_derivative(net, x, goal)\n",
    "\n",
    "        # The GD update on x\n",
    "        x = x - eta * gradient\n",
    "\n",
    "    return x\n",
    "\n",
    "# Existing nonTargetedAdversarial function remains unchanged\n",
    "\n",
    "# Wrapper function\n",
    "def generate(n):\n",
    "    \"\"\"\n",
    "    n : integer\n",
    "        goal label (not a one-hot vector)\n",
    "    \"\"\"\n",
    "    # Find the vector x with the above function that you just wrote.\n",
    "    adversarial_example = nonTargetedAdversarial(net, n, steps=100, eta=0.01)  # You can adjust steps and eta\n",
    "\n",
    "    # Pass the generated image (vector) to the neural network. Perform a forward pass, and get the prediction.\n",
    "    prediction = net.feedforward(adversarial_example)\n",
    "\n",
    "    print('Network Output: \\n' + str(np.round(prediction, 2)) + '\\n')\n",
    "\n",
    "    print('Network Prediction: ' + str(np.argmax(prediction)) + '\\n')\n",
    "\n",
    "    print('Adversarial Example: ')\n",
    "\n",
    "    plt.imshow(adversarial_example.reshape(28, 28), cmap='Greys')\n"
   ]
  },
  {
   "cell_type": "markdown",
   "metadata": {
    "id": "1s3Z457Pv0MV"
   },
   "source": [
    "Now let's generate some adversarial examples! Use the function provided to mess around with the neural network. (For some inputs gradient descent doesn't always converge; 0 and 5 seem to work pretty well though. I suspect convergence is very highly dependent on our choice of random initial $ \\vec x $. We'll see later in the notebook if we force the adversarial example to \"look like\" a handwritten digit, convergence is much more likely. In a sense we will be adding regularization to our generation process)."
   ]
  },
  {
   "cell_type": "code",
   "execution_count": 7,
   "metadata": {
    "colab": {
     "base_uri": "https://localhost:8080/",
     "height": 698
    },
    "id": "ha3ZaK3kv0MV",
    "outputId": "b707266e-05b3-47ba-e403-78844e6271a0",
    "scrolled": true
   },
   "outputs": [
    {
     "name": "stdout",
     "output_type": "stream",
     "text": [
      "Network Output: \n",
      "[[0.  ]\n",
      " [0.  ]\n",
      " [0.97]\n",
      " [0.  ]\n",
      " [0.  ]\n",
      " [0.  ]\n",
      " [0.  ]\n",
      " [0.  ]\n",
      " [0.  ]\n",
      " [0.  ]]\n",
      "\n",
      "Network Prediction: 2\n",
      "\n",
      "Adversarial Example: \n"
     ]
    },
    {
     "data": {
      "image/png": "[encoded data removed]",
      "text/plain": [
       "<Figure size 432x288 with 1 Axes>"
      ]
     },
     "metadata": {
      "needs_background": "light"
     },
     "output_type": "display_data"
    }
   ],
   "source": [
    "generate(2)"
   ]
  },
  {
   "cell_type": "markdown",
   "metadata": {
    "id": "32pepE6Rv0MW"
   },
   "source": [
    "## (b) Targeted Attack(s)"
   ]
  },
  {
   "cell_type": "markdown",
   "metadata": {
    "id": "XG5rQPMKv0MW"
   },
   "source": [
    "Sweet! We've just managed to create an image that looks utterly meaningless to a human, but the neural network thinks is a '5' with very high certainty. We can actually take this a bit further. Let's generate an image that looks like one number, but the neural network is certain is another. To do this we will modify our cost function a bit. Instead of just optimizing the input image, $ \\vec x $, to get a desired output label, we'll also optimize the input to look like a certain image, $ \\vec x_{target} $, at the same time. Our new cost function will be\n",
    "\n",
    "$$ C = \\|\\vec y_{goal} - y_{hat}(\\vec x)\\|^2_2 + \\lambda \\|\\vec x - \\vec x_{target}\\|^2_2 $$\n",
    "\n",
    "The added term tells us the distance from our $ \\vec x $ and some $ \\vec x_{target} $ (which is the image we want our adversarial example to look like). Because we want to minimize $ C $, we also want to minimize the distance between our adversarial example and this image. The $ \\lambda $ is hyperparameter that we can tune; it determines which is more important: optimizing for the desired output or optimizing for an image that looks like $ \\vec x_{target} $.\n",
    "\n",
    "If you are familiar with ridge regularization, the above cost function might look suspiciously like the ridge regression cost function. In fact, we can view this generation method as giving our model a prior, centered on our target image.\n",
    "\n",
    "Here is a function that implements optimizing the modified cost function, called `sneaky_adversarial` (because it is very sneaky). Note that the only difference between this function and `adversarial` is an additional term on the gradient descent update for the regularization term:"
   ]
  },
  {
   "cell_type": "code",
   "execution_count": 8,
   "metadata": {
    "id": "mbgfrr6Uv0MW"
   },
   "outputs": [],
   "source": [
    "def targetedAdversarial(net, n, x_target, steps, eta, lam=0.05):\n",
    "    \"\"\"\n",
    "    net : network object\n",
    "        neural network instance to use\n",
    "    n : integer\n",
    "        our goal label (just an int, the function transforms it into a one-hot vector)\n",
    "    x_target : numpy vector\n",
    "        our goal image for the adversarial example\n",
    "    steps : integer\n",
    "        number of steps for gradient descent\n",
    "    eta : float\n",
    "        step size for gradient descent\n",
    "    lam : float\n",
    "        lambda, our regularization parameter. Default is 0.05\n",
    "    \"\"\"\n",
    "\n",
    "    # Set the goal output\n",
    "    goal = np.zeros((10,1))  # Assuming you are working with MNIST (10 classes)\n",
    "    goal[n] = 1\n",
    "\n",
    "    # Create a random image to initialize gradient descent with\n",
    "    x = np.random.rand(28*28,1)  # Assuming MNIST images are 28x28 pixels\n",
    "  #take random\n",
    "    # Gradient descent on the input\n",
    "    for i in range(steps):\n",
    "        # Calculate the derivative\n",
    "        gradient = input_derivative(net, x, goal)\n",
    "\n",
    "        # Calculate the regularization term\n",
    "        regularization_term = 2*lam * (x - x_target) / np.linalg.norm((x - x_target),2)\n",
    "\n",
    "        # The GD update on x, with an added penalty to the cost function\n",
    "        x = x - eta * (gradient + regularization_term)\n",
    "\n",
    "    return x\n",
    "\n",
    "\n",
    "# Wrapper function\n",
    "def generate_advSample(n, m):\n",
    "    \"\"\"\n",
    "    n: int 0-9, the target number to match\n",
    "    m: index of example image to use (from the test set)\n",
    "    \"\"\"\n",
    "\n",
    "    # Find a random instance of m in the test set\n",
    "    idx = np.random.randint(0, 8000)\n",
    "    while test_data[idx][1] != m:\n",
    "        idx += 1\n",
    "\n",
    "    # Hardcode the parameters for the wrapper function\n",
    "    adversarial_example = targetedAdversarial(net, n, test_data[idx][0], steps=100, eta=1)\n",
    "    prediction = net.feedforward(adversarial_example)\n",
    "\n",
    "    print('\\nWhat we want our adversarial example to look like: ')\n",
    "    plt.imshow(test_data[idx][0].reshape((28, 28)), cmap='Greys')\n",
    "    plt.show()\n",
    "\n",
    "    print('\\nAdversarial Example: ')\n",
    "    plt.imshow(adversarial_example.reshape(28, 28), cmap='Greys')\n",
    "    plt.show()\n",
    "\n",
    "    print('Network Prediction: ' + str(np.argmax(prediction)) + '\\n')\n",
    "\n",
    "    print('Network Output: \\n' + str(np.round(prediction, 2)) + '\\n')\n",
    "\n",
    "    return adversarial_example"
   ]
  },
  {
   "cell_type": "markdown",
   "metadata": {
    "id": "GnRijuHvv0MW"
   },
   "source": [
    "Play around with this function to make \"sneaky\" adversarial examples! (Again, some numbers converge better than others... try 0, 2, 3, 5, 6, or 8 as a target label. 1, 4, 7, and 9 still don't work as well... no idea why... We get more numbers that converge because we've added regularization term to our cost function. Perhaps changing $ \\lambda $ will get more to converge?)"
   ]
  },
  {
   "cell_type": "code",
   "execution_count": 9,
   "metadata": {
    "colab": {
     "base_uri": "https://localhost:8080/",
     "height": 1000
    },
    "id": "Qzio46qkv0MW",
    "outputId": "67ddbef3-1740-463b-a0df-dc1a80e5c0b4"
   },
   "outputs": [
    {
     "name": "stdout",
     "output_type": "stream",
     "text": [
      "\n",
      "What we want our adversarial example to look like: \n"
     ]
    },
    {
     "data": {
      "image/png": "[encoded data removed]",
      "text/plain": [
       "<Figure size 432x288 with 1 Axes>"
      ]
     },
     "metadata": {
      "needs_background": "light"
     },
     "output_type": "display_data"
    },
    {
     "name": "stdout",
     "output_type": "stream",
     "text": [
      "\n",
      "Adversarial Example: \n"
     ]
    },
    {
     "data": {
      "image/png": "[encoded data removed]",
      "text/plain": [
       "<Figure size 432x288 with 1 Axes>"
      ]
     },
     "metadata": {
      "needs_background": "light"
     },
     "output_type": "display_data"
    },
    {
     "name": "stdout",
     "output_type": "stream",
     "text": [
      "Network Prediction: 8\n",
      "\n",
      "Network Output: \n",
      "[[0.  ]\n",
      " [0.  ]\n",
      " [0.01]\n",
      " [0.  ]\n",
      " [0.  ]\n",
      " [0.  ]\n",
      " [0.  ]\n",
      " [0.  ]\n",
      " [0.99]\n",
      " [0.  ]]\n",
      "\n"
     ]
    }
   ],
   "source": [
    "# generate_advSample(target label, target digit)\n",
    "adv_ex = generate_advSample(8, 2)"
   ]
  },
  {
   "cell_type": "markdown",
   "metadata": {
    "id": "gM6xIfurv0MW"
   },
   "source": [
    "## (c) Protection against adversarial attacks"
   ]
  },
  {
   "cell_type": "markdown",
   "metadata": {
    "id": "vq97hju1v0MW"
   },
   "source": [
    "Awesome! We’ve just created images that trick neural networks. The next question we could ask is whether or not we could protect against these kinds of attacks. If you look closely at the original images and the adversarial examples you’ll see that the adversarial examples have some sort of grey tinged background."
   ]
  },
  {
   "cell_type": "markdown",
   "metadata": {
    "id": "6vPs4sdyv0MX"
   },
   "source": [
    "So how could we protect against these adversarial attacks? One very simple way would be to use binary thresholding. Set a pixel as completely black or completely white depending on a threshold. This should remove the \"noise\" that's always present in the adversarial images. Let's see if it works:"
   ]
  },
  {
   "cell_type": "code",
   "execution_count": 10,
   "metadata": {
    "id": "1NDPGanzv0MX"
   },
   "outputs": [],
   "source": [
    "def simple_defense(n, m):\n",
    "    \"\"\"\n",
    "    n: int 0-9, the target number to match\n",
    "    m: index of example image to use (from the test set)\n",
    "    \"\"\"\n",
    "\n",
    "    # Generate an adversarial sample.\n",
    "    x = generate_advSample(n, m)\n",
    "\n",
    "    # Perform binary thresholding on the generated sample.\n",
    "    threshold = 0.5\n",
    "    binarized_sample = (x > threshold).astype(int)\n",
    "\n",
    "    print(\"With binary thresholding: \")\n",
    "\n",
    "    # Plot a grayscale image of the binarized generated sample.\n",
    "    plt.imshow(binarized_sample.reshape(28, 28), cmap='Greys')\n",
    "    plt.show()\n",
    "\n",
    "    # Print the network's predictions for the binarized image.\n",
    "    prediction = net.feedforward(binarized_sample)\n",
    "    print(\"Prediction with binary thresholding: \" + str(np.argmax(prediction))+ '\\n')\n",
    "\n",
    "    # The output of the network.\n",
    "    print(\"Network output: \")\n",
    "    print(prediction)\n"
   ]
  },
  {
   "cell_type": "code",
   "execution_count": 11,
   "metadata": {
    "colab": {
     "base_uri": "https://localhost:8080/",
     "height": 1000
    },
    "id": "7FpzVHcev0MX",
    "outputId": "f66b8f5b-ff08-46fb-bc0b-7e4133b066bf"
   },
   "outputs": [
    {
     "name": "stdout",
     "output_type": "stream",
     "text": [
      "\n",
      "What we want our adversarial example to look like: \n"
     ]
    },
    {
     "data": {
      "image/png": "[encoded data removed]",
      "text/plain": [
       "<Figure size 432x288 with 1 Axes>"
      ]
     },
     "metadata": {
      "needs_background": "light"
     },
     "output_type": "display_data"
    },
    {
     "name": "stdout",
     "output_type": "stream",
     "text": [
      "\n",
      "Adversarial Example: \n"
     ]
    },
    {
     "data": {
      "image/png": "[encoded data removed]",
      "text/plain": [
       "<Figure size 432x288 with 1 Axes>"
      ]
     },
     "metadata": {
      "needs_background": "light"
     },
     "output_type": "display_data"
    },
    {
     "name": "stdout",
     "output_type": "stream",
     "text": [
      "Network Prediction: 2\n",
      "\n",
      "Network Output: \n",
      "[[0.  ]\n",
      " [0.  ]\n",
      " [0.96]\n",
      " [0.02]\n",
      " [0.  ]\n",
      " [0.  ]\n",
      " [0.  ]\n",
      " [0.  ]\n",
      " [0.  ]\n",
      " [0.  ]]\n",
      "\n",
      "With binary thresholding: \n"
     ]
    },
    {
     "data": {
      "image/png": "[encoded data removed]",
      "text/plain": [
       "<Figure size 432x288 with 1 Axes>"
      ]
     },
     "metadata": {
      "needs_background": "light"
     },
     "output_type": "display_data"
    },
    {
     "name": "stdout",
     "output_type": "stream",
     "text": [
      "Prediction with binary thresholding: 3\n",
      "\n",
      "Network output: \n",
      "[[2.81444316e-06]\n",
      " [1.31299833e-05]\n",
      " [4.41389937e-08]\n",
      " [9.99949234e-01]\n",
      " [1.11203793e-08]\n",
      " [2.75583477e-05]\n",
      " [1.22932020e-07]\n",
      " [1.23218094e-08]\n",
      " [6.23585201e-18]\n",
      " [1.63314439e-11]]\n"
     ]
    }
   ],
   "source": [
    "# binary_thresholding(target digit, actual digit)\n",
    "simple_defense(2, 3)"
   ]
  },
  {
   "cell_type": "markdown",
   "metadata": {
    "id": "pDwE5qyOv0MX"
   },
   "source": [
    "Looks like it works pretty well! However, note that most adversarial attacks, especially on convolutional neural networks trained on massive full color image sets such as imagenet, can't be defended against by a simple binary threshold."
   ]
  },
  {
   "cell_type": "markdown",
   "metadata": {
    "id": "B5tbXeIQv0MX"
   },
   "source": [
    "## Adversarial Training"
   ]
  },
  {
   "cell_type": "markdown",
   "metadata": {
    "id": "kJFxJj2Rv0MX"
   },
   "source": [
    "Looks like it works pretty well! However, note that most adversarial attacks, especially on convolutional neural networks trained on massive full color image sets such as imagenet, can't be defended against by a simple binary threshold.\n",
    "\n",
    "We could try one more thing that might be a bit more universal to protect our neural network against adversarial attacks. If we had access to the adversarial attack method (which we do in this case, because we're the ones implementing the attack) we could create a ton of adversarial examples, mix that up with our training dataset with the correct labels, and then retrain a network on this augmented dataset. The retrained network should learn to ignore the adversarial attacks. Here we implement a function to do just that."
   ]
  },
  {
   "cell_type": "code",
   "execution_count": 12,
   "metadata": {
    "id": "LlTcwumzv0MX"
   },
   "outputs": [],
   "source": [
    "def augment_data(n, data, steps):\n",
    "    \"\"\"\n",
    "    n : integer\n",
    "        number of adversarial examples to generate\n",
    "    data : list of tuples\n",
    "        data set to generate adversarial examples using\n",
    "    steps : integer\n",
    "        number of steps for gradient descent\n",
    "    \"\"\"\n",
    "    # Our augmented training set:\n",
    "    augmented = []\n",
    "\n",
    "    for i in range(n):\n",
    "        # Progress \"bar\"\n",
    "        if i % 500 == 0:\n",
    "            print(\"Generated digits: \" + str(i))\n",
    "\n",
    "        # Randomly choose a digit that the example will look like\n",
    "        rnd_actual_digit = np.random.randint(10)\n",
    "\n",
    "        # Find random instance of rnd_actual_digit in the training set\n",
    "        rnd_actual_idx = np.random.choice([idx for idx, (x, y) in enumerate(data) if np.argmax(y) == rnd_actual_digit])\n",
    "\n",
    "        x_target = data[rnd_actual_idx][0]\n",
    "        y_actual = data[rnd_actual_idx][1]\n",
    "        true_digit_label = np.argmax(y_actual)\n",
    "\n",
    "        # Choose a value for the adversarial attack\n",
    "        while True:\n",
    "            rnd_fake_digit = np.random.randint(10)\n",
    "            if rnd_fake_digit != true_digit_label:\n",
    "                break\n",
    "\n",
    "        # Generate adversarial example\n",
    "        x_adversarial = targetedAdversarial(net, rnd_fake_digit, x_target, steps, 1.1)\n",
    "\n",
    "        # Add new data\n",
    "        augmented.append((x_adversarial, y_actual))\n",
    "\n",
    "    return augmented\n"
   ]
  },
  {
   "cell_type": "code",
   "execution_count": 13,
   "metadata": {
    "colab": {
     "base_uri": "https://localhost:8080/"
    },
    "id": "WwcCuHLnv0MX",
    "outputId": "aefd1f35-61d2-460d-9f27-953ff41b2bfc"
   },
   "outputs": [
    {
     "name": "stdout",
     "output_type": "stream",
     "text": [
      "Generated digits: 0\n",
      "Generated digits: 500\n",
      "Generated digits: 1000\n",
      "Generated digits: 1500\n",
      "Generated digits: 2000\n",
      "Generated digits: 2500\n",
      "Generated digits: 3000\n",
      "Generated digits: 3500\n",
      "Generated digits: 4000\n",
      "Generated digits: 4500\n",
      "Generated digits: 5000\n",
      "Generated digits: 5500\n",
      "Generated digits: 6000\n",
      "Generated digits: 6500\n",
      "Generated digits: 7000\n",
      "Generated digits: 7500\n",
      "Generated digits: 8000\n",
      "Generated digits: 8500\n",
      "Generated digits: 9000\n",
      "Generated digits: 9500\n"
     ]
    }
   ],
   "source": [
    "# Try 10000 examples first if you don't want to wait for a long time!\n",
    "augmented = augment_data(10000, training_data, 100)"
   ]
  },
  {
   "cell_type": "markdown",
   "metadata": {
    "id": "bsIl6o1pv0MY"
   },
   "source": [
    "Now let's check to make sure our augmented dataset actually makes sense. Here we have a function that checks the $ i^{th} $ example in our augmented set."
   ]
  },
  {
   "cell_type": "code",
   "execution_count": 14,
   "metadata": {
    "colab": {
     "base_uri": "https://localhost:8080/",
     "height": 912
    },
    "id": "72kxwnwev0MY",
    "outputId": "736b80b6-5796-4fa7-8a9a-a5634ee8a4c0"
   },
   "outputs": [
    {
     "name": "stdout",
     "output_type": "stream",
     "text": [
      "Image: \n",
      "\n"
     ]
    },
    {
     "data": {
      "image/png": "[encoded data removed]",
      "text/plain": [
       "<Figure size 432x288 with 1 Axes>"
      ]
     },
     "metadata": {
      "needs_background": "light"
     },
     "output_type": "display_data"
    },
    {
     "name": "stdout",
     "output_type": "stream",
     "text": [
      "Original network prediction: \n",
      "\n",
      "[[0.  ]\n",
      " [0.  ]\n",
      " [0.  ]\n",
      " [0.  ]\n",
      " [0.  ]\n",
      " [0.  ]\n",
      " [0.01]\n",
      " [0.  ]\n",
      " [0.  ]\n",
      " [0.  ]]\n",
      "\n",
      "Label: \n",
      "\n",
      "[[0.]\n",
      " [0.]\n",
      " [1.]\n",
      " [0.]\n",
      " [0.]\n",
      " [0.]\n",
      " [0.]\n",
      " [0.]\n",
      " [0.]\n",
      " [0.]]\n"
     ]
    }
   ],
   "source": [
    "def check_augmented(i, augmented):\n",
    "    # Show image\n",
    "    print('Image: \\n')\n",
    "    plt.imshow(augmented[i][0].reshape(28,28), cmap='Greys')\n",
    "    plt.show()\n",
    "\n",
    "    # Show original network prediction\n",
    "    print('Original network prediction: \\n')\n",
    "    print(np.round(net.feedforward(augmented[i][0]), 2))\n",
    "\n",
    "    # Show label\n",
    "    print('\\nLabel: \\n')\n",
    "    print(augmented[i][1])\n",
    "\n",
    "# check i^th adversarial image\n",
    "check_augmented(239, augmented)"
   ]
  },
  {
   "cell_type": "markdown",
   "metadata": {
    "id": "hvdkxd7zv0MY"
   },
   "source": [
    "We can now create a new neural network and train it on our augmented dataset and the original training set, using the original test set to validate."
   ]
  },
  {
   "cell_type": "code",
   "execution_count": 15,
   "metadata": {
    "id": "N4zopBckv0MY"
   },
   "outputs": [],
   "source": [
    "def update_mini_batch(self, mini_batch, eta):\n",
    "        \"\"\"Update the network's weights and biases by applying\n",
    "        gradient descent using backpropagation to a single mini batch.\n",
    "        The ``mini_batch`` is a list of tuples ``(x, y)``, and ``eta``\n",
    "        is the learning rate.\"\"\"\n",
    "        nabla_b = [np.zeros(b.shape) for b in self.biases]\n",
    "        nabla_w = [np.zeros(w.shape) for w in self.weights]\n",
    "        for x, y in mini_batch:\n",
    "            delta_nabla_b, delta_nabla_w = backprop(self, x, y)\n",
    "            nabla_b = [nb+dnb for nb, dnb in zip(nabla_b, delta_nabla_b)]\n",
    "            nabla_w = [nw+dnw for nw, dnw in zip(nabla_w, delta_nabla_w)]\n",
    "        self.weights = [w-(eta/len(mini_batch))*nw\n",
    "                        for w, nw in zip(self.weights, nabla_w)]\n",
    "        self.biases = [b-(eta/len(mini_batch))*nb\n",
    "                       for b, nb in zip(self.biases, nabla_b)]"
   ]
  },
  {
   "cell_type": "code",
   "execution_count": 16,
   "metadata": {
    "id": "oKqbOI_fv0MY"
   },
   "outputs": [],
   "source": [
    "def backprop(self, x, y):\n",
    "        \"\"\"Return a tuple ``(nabla_b, nabla_w)`` representing the\n",
    "        gradient for the cost function C_x.  ``nabla_b`` and\n",
    "        ``nabla_w`` are layer-by-layer lists of numpy arrays, similar\n",
    "        to ``self.biases`` and ``self.weights``.\"\"\"\n",
    "        nabla_b = [np.zeros(b.shape) for b in self.biases]\n",
    "        nabla_w = [np.zeros(w.shape) for w in self.weights]\n",
    "        # feedforward\n",
    "        activation = x\n",
    "        activations = [x] # list to store all the activations, layer by layer\n",
    "        zs = [] # list to store all the z vectors, layer by layer\n",
    "        for b, w in zip(self.biases, self.weights):\n",
    "            z = np.dot(w, activation)+b\n",
    "            zs.append(z)\n",
    "            activation = sigmoid(z)\n",
    "            activations.append(activation)\n",
    "        # backward pass\n",
    "        delta = self.cost_derivative(activations[-1], y) * \\\n",
    "            sigmoid_prime(zs[-1])\n",
    "        nabla_b[-1] = delta\n",
    "        nabla_w[-1] = np.dot(delta, activations[-2].transpose())\n",
    "        # Here, l = 1 means the last layer of neurons, l = 2 is the\n",
    "        # second-last layer, and so on.  It's a renumbering of the\n",
    "        # scheme in the book, used here to take advantage of the fact\n",
    "        # that Python can use negative indices in lists.\n",
    "        for l in range(2, self.num_layers):\n",
    "            z = zs[-l]\n",
    "            sp = sigmoid_prime(z)\n",
    "            delta = np.dot(self.weights[-l+1].transpose(), delta) * sp\n",
    "            nabla_b[-l] = delta\n",
    "            nabla_w[-l] = np.dot(delta, activations[-l-1].transpose())\n",
    "        return (nabla_b, nabla_w)\n"
   ]
  },
  {
   "cell_type": "code",
   "execution_count": 17,
   "metadata": {
    "id": "LvwEsrqQv0MY"
   },
   "outputs": [],
   "source": [
    "def SGD(self, training_data, epochs, mini_batch_size, eta,\n",
    "            test_data=None):\n",
    "        \"\"\"Train the neural network using mini-batch stochastic\n",
    "        gradient descent.  The ``training_data`` is a list of tuples\n",
    "        ``(x, y)`` representing the training inputs and the desired\n",
    "        outputs.  The other non-optional parameters are\n",
    "        self-explanatory.  If ``test_data`` is provided then the\n",
    "        network will be evaluated against the test data after each\n",
    "        epoch, and partial progress printed out.  This is useful for\n",
    "        tracking progress, but slows things down substantially.\"\"\"\n",
    "        if test_data: n_test = len(test_data)\n",
    "        n = len(training_data)\n",
    "        for j in range(epochs):\n",
    "            random.shuffle(training_data)\n",
    "            mini_batches = [\n",
    "                training_data[k:k+mini_batch_size]\n",
    "                for k in range(0, n, mini_batch_size)]\n",
    "            for mini_batch in mini_batches:\n",
    "                update_mini_batch(self,mini_batch, eta)\n",
    "            if test_data:\n",
    "                print(\"Epoch {0}: {1} / {2}\".format(\n",
    "                    j, self.evaluate(test_data), n_test))\n",
    "            else:\n",
    "                print(\"Epoch {0} complete\".format(j))\n"
   ]
  },
  {
   "cell_type": "code",
   "execution_count": 18,
   "metadata": {
    "colab": {
     "base_uri": "https://localhost:8080/"
    },
    "id": "ddhoctx3v0MY",
    "outputId": "3318fb24-bbe1-4ecf-fae6-e0e54d507948"
   },
   "outputs": [
    {
     "name": "stdout",
     "output_type": "stream",
     "text": [
      "Epoch 0 complete\n",
      "Epoch 1 complete\n",
      "Epoch 2 complete\n",
      "Epoch 3 complete\n",
      "Epoch 4 complete\n",
      "Epoch 5 complete\n",
      "Epoch 6 complete\n",
      "Epoch 7 complete\n",
      "Epoch 8 complete\n",
      "Epoch 9 complete\n",
      "Epoch 10 complete\n",
      "Epoch 11 complete\n",
      "Epoch 12 complete\n",
      "Epoch 13 complete\n",
      "Epoch 14 complete\n",
      "Epoch 15 complete\n",
      "Epoch 16 complete\n",
      "Epoch 17 complete\n",
      "Epoch 18 complete\n",
      "Epoch 19 complete\n",
      "Epoch 20 complete\n",
      "Epoch 21 complete\n",
      "Epoch 22 complete\n",
      "Epoch 23 complete\n",
      "Epoch 24 complete\n",
      "Epoch 25 complete\n",
      "Epoch 26 complete\n",
      "Epoch 27 complete\n",
      "Epoch 28 complete\n",
      "Epoch 29 complete\n"
     ]
    }
   ],
   "source": [
    "# Create a new network\n",
    "net2 = Network.Network([784, 30, 10])  # Use the appropriate architecture\n",
    "\n",
    "# Combine the augmented and original training data\n",
    "combined_train_data = augmented + training_data\n",
    "random.shuffle(combined_train_data)\n",
    "\n",
    "# Train the new network on the combined data\n",
    "SGD(net2,combined_train_data, epochs=30, mini_batch_size=10, eta=3)  # Adjust the hyperparameters as needed"
   ]
  },
  {
   "cell_type": "markdown",
   "metadata": {
    "id": "CDWxFUS-v0MY"
   },
   "source": [
    "With a network trained on 50000 adversarial examples in addition to 50000 original training set examples we get about 95% accuracy (it takes quite a long time as well). We can make a test set of adversarial examples by using the following function call:"
   ]
  },
  {
   "cell_type": "code",
   "execution_count": 19,
   "metadata": {
    "colab": {
     "base_uri": "https://localhost:8080/"
    },
    "id": "tBV6HPjwv0Me",
    "outputId": "ecd7cdf5-f724-4520-a67a-82f2aee8b7e0"
   },
   "outputs": [
    {
     "name": "stdout",
     "output_type": "stream",
     "text": [
      "Generated digits: 0\n",
      "Generated digits: 500\n"
     ]
    }
   ],
   "source": [
    "# For some reason the training data has the format: list of tuples\n",
    "# tuple[0] is np array of image\n",
    "# tuple[1] is one hot np array of label\n",
    "# test data is also list of tuples\n",
    "# tuple[0] is np array of image\n",
    "# tuple[1] is integer of label\n",
    "# Just fixing this:\n",
    "normal_test_data = []\n",
    "\n",
    "for i in range(len(test_data)):\n",
    "    ground_truth = test_data[i][1]\n",
    "    one_hot = np.zeros(10)\n",
    "    one_hot[ground_truth] = 1\n",
    "    one_hot = np.expand_dims(one_hot, axis=1)\n",
    "    normal_test_data.append((test_data[i][0], one_hot))\n",
    "\n",
    "\n",
    "# Using normal_test_data because of weird way data is packaged\n",
    "adversarial_test_set = augment_data(1000, normal_test_data, 100)"
   ]
  },
  {
   "cell_type": "markdown",
   "metadata": {
    "id": "oxBO8pY7v0Me"
   },
   "source": [
    "Let's checkout the accuracy of our newly trained network on adversarial examples from the new adversarial test set:"
   ]
  },
  {
   "cell_type": "code",
   "execution_count": 20,
   "metadata": {
    "colab": {
     "base_uri": "https://localhost:8080/"
    },
    "id": "XoitpGFtv0Me",
    "outputId": "14f7306d-7f53-43d8-c590-637d2ff6006d"
   },
   "outputs": [
    {
     "name": "stdout",
     "output_type": "stream",
     "text": [
      "Accuracy of the new augmented model on the adversarial test set: 0.913\n",
      "Accuracy of the new augmented model on the original test set: 0.9487\n",
      "Accuracy of the original network on the adversarial test set: 0.405\n",
      "Accuracy of the original network on the original test set: 0.8701\n"
     ]
    }
   ],
   "source": [
    "def accuracy(net, test_data):\n",
    "    tot = float(len(test_data))\n",
    "    correct = 0\n",
    "    for image, label in test_data:\n",
    "        predicted = np.argmax(net.feedforward(image))\n",
    "        true_label = np.argmax(label)\n",
    "        if predicted == true_label:\n",
    "            correct += 1\n",
    "    return correct / tot\n",
    "\n",
    "# Compute and print the accuracy for the augmented model on the adversarial and original test sets\n",
    "augmented_accuracy_adversarial = accuracy(net2, adversarial_test_set)\n",
    "augmented_accuracy_original = accuracy(net2, normal_test_data)\n",
    "print('Accuracy of the new augmented model on the adversarial test set: ' + str(augmented_accuracy_adversarial))\n",
    "print('Accuracy of the new augmented model on the original test set: ' + str(augmented_accuracy_original))\n",
    "\n",
    "# Compute and print the accuracy for the original network on the adversarial and original test sets\n",
    "original_accuracy_adversarial = accuracy(net, adversarial_test_set)\n",
    "original_accuracy_original = accuracy(net, normal_test_data)\n",
    "print('Accuracy of the original network on the adversarial test set: ' + str(original_accuracy_adversarial))\n",
    "print('Accuracy of the original network on the original test set: ' + str(original_accuracy_original))"
   ]
  },
  {
   "cell_type": "markdown",
   "metadata": {
    "id": "TX0tsf4sv0Me"
   },
   "source": [
    "Finally, we'll be implementing a function that compares the original network to the new network on adversarial examples."
   ]
  },
  {
   "cell_type": "code",
   "execution_count": 21,
   "metadata": {
    "id": "iXYP1qnrv0Mf"
   },
   "outputs": [],
   "source": [
    "def compare(original_net, new_net, adv_example):\n",
    "    # Extract the image and label from the adversarial example\n",
    "    image = adv_example[0].reshape(28, 28)  # Assuming MNIST images are 28x28 pixels\n",
    "    label = adv_example[1]\n",
    "\n",
    "    # Show the image\n",
    "    print('Image: ')\n",
    "    plt.imshow(image, cmap='Greys')\n",
    "    plt.show()\n",
    "\n",
    "    # Get the original network's prediction\n",
    "    original_prediction = original_net.feedforward(image.flatten())  # Flatten the image\n",
    "\n",
    "    # Show the original network prediction\n",
    "    print('Original network prediction: ')\n",
    "    print(np.round(original_prediction, 2))\n",
    "\n",
    "    # Get the new network's prediction\n",
    "    new_prediction = new_net.feedforward(image.flatten())  # Flatten the image\n",
    "\n",
    "    # Show the new network prediction\n",
    "    print('New network prediction: ')\n",
    "    print(np.round(new_prediction, 2))\n",
    "\n",
    "    # Show the true label\n",
    "    print('\\nLabel: ')\n",
    "    print(label)"
   ]
  },
  {
   "cell_type": "code",
   "execution_count": 22,
   "metadata": {
    "colab": {
     "base_uri": "https://localhost:8080/",
     "height": 1000
    },
    "id": "kpgz8_GJv0Mf",
    "outputId": "c3720766-e8b7-47bc-b89d-a29fd6c3ae12"
   },
   "outputs": [
    {
     "name": "stdout",
     "output_type": "stream",
     "text": [
      "Image: \n"
     ]
    },
    {
     "data": {
      "image/png": "[encoded data removed]",
      "text/plain": [
       "<Figure size 432x288 with 1 Axes>"
      ]
     },
     "metadata": {
      "needs_background": "light"
     },
     "output_type": "display_data"
    },
    {
     "name": "stdout",
     "output_type": "stream",
     "text": [
      "Original network prediction: \n",
      "[[0.   0.04 0.   0.04 0.03 0.   0.   0.   0.   0.   0.   0.04 0.04 0.04\n",
      "  0.01 0.03 0.04 0.04 0.04 0.04 0.   0.04 0.   0.04 0.04 0.   0.04 0.04\n",
      "  0.   0.03 0.04 0.04 0.04 0.   0.04 0.   0.   0.   0.04 0.04 0.04 0.03\n",
      "  0.   0.   0.   0.   0.04 0.   0.   0.   0.   0.04 0.   0.   0.04 0.04\n",
      "  0.04 0.04 0.   0.04 0.04 0.04 0.04 0.   0.   0.04 0.   0.04 0.04 0.\n",
      "  0.04 0.04 0.04 0.   0.   0.   0.   0.01 0.   0.   0.04 0.   0.   0.04\n",
      "  0.04 0.   0.04 0.   0.   0.04 0.   0.   0.04 0.   0.   0.04 0.04 0.01\n",
      "  0.   0.  ]\n",
      " [0.   0.28 0.   0.28 0.24 0.   0.   0.   0.   0.   0.   0.28 0.28 0.28\n",
      "  0.15 0.25 0.28 0.28 0.28 0.28 0.   0.28 0.   0.28 0.28 0.09 0.28 0.28\n",
      "  0.   0.24 0.28 0.28 0.28 0.   0.28 0.   0.   0.   0.28 0.28 0.28 0.23\n",
      "  0.   0.   0.   0.   0.28 0.   0.   0.   0.   0.28 0.   0.07 0.28 0.28\n",
      "  0.28 0.28 0.   0.28 0.28 0.28 0.28 0.   0.   0.28 0.   0.28 0.28 0.\n",
      "  0.28 0.28 0.28 0.   0.   0.   0.   0.13 0.   0.   0.28 0.   0.   0.28\n",
      "  0.28 0.   0.28 0.   0.   0.28 0.   0.   0.28 0.   0.   0.28 0.28 0.17\n",
      "  0.   0.  ]\n",
      " [0.   0.72 0.   0.72 0.67 0.   0.   0.   0.   0.   0.   0.72 0.72 0.72\n",
      "  0.53 0.69 0.72 0.72 0.72 0.72 0.   0.72 0.   0.72 0.72 0.36 0.72 0.72\n",
      "  0.   0.67 0.72 0.72 0.72 0.   0.72 0.   0.   0.   0.72 0.72 0.71 0.66\n",
      "  0.   0.   0.   0.   0.72 0.   0.   0.   0.   0.72 0.   0.3  0.72 0.72\n",
      "  0.72 0.72 0.   0.72 0.72 0.72 0.71 0.   0.   0.72 0.   0.72 0.72 0.\n",
      "  0.72 0.72 0.72 0.   0.   0.   0.   0.47 0.   0.   0.72 0.   0.   0.72\n",
      "  0.71 0.   0.72 0.   0.   0.72 0.   0.   0.72 0.   0.   0.72 0.72 0.55\n",
      "  0.   0.  ]\n",
      " [0.   0.05 0.   0.05 0.04 0.   0.   0.   0.   0.   0.   0.05 0.05 0.05\n",
      "  0.03 0.05 0.05 0.05 0.05 0.05 0.   0.05 0.   0.05 0.05 0.02 0.05 0.05\n",
      "  0.   0.04 0.05 0.05 0.05 0.   0.05 0.   0.   0.   0.05 0.05 0.05 0.04\n",
      "  0.   0.   0.   0.   0.05 0.   0.   0.   0.   0.05 0.   0.02 0.05 0.05\n",
      "  0.05 0.05 0.   0.05 0.05 0.05 0.05 0.   0.   0.05 0.   0.05 0.05 0.\n",
      "  0.05 0.05 0.05 0.   0.   0.   0.   0.03 0.   0.   0.05 0.   0.   0.05\n",
      "  0.05 0.   0.05 0.   0.   0.05 0.   0.   0.05 0.   0.   0.05 0.05 0.03\n",
      "  0.   0.  ]\n",
      " [0.   0.17 0.   0.17 0.14 0.   0.   0.   0.   0.   0.   0.17 0.17 0.17\n",
      "  0.07 0.15 0.17 0.17 0.17 0.17 0.   0.17 0.   0.17 0.17 0.04 0.17 0.17\n",
      "  0.   0.14 0.17 0.17 0.17 0.   0.17 0.   0.   0.   0.17 0.17 0.17 0.13\n",
      "  0.   0.   0.   0.   0.17 0.   0.   0.   0.   0.17 0.   0.03 0.17 0.17\n",
      "  0.17 0.17 0.   0.17 0.17 0.17 0.17 0.   0.   0.17 0.   0.17 0.17 0.\n",
      "  0.17 0.17 0.17 0.   0.   0.   0.   0.06 0.   0.   0.17 0.   0.   0.17\n",
      "  0.17 0.   0.17 0.   0.   0.17 0.   0.   0.17 0.   0.   0.17 0.17 0.08\n",
      "  0.   0.  ]\n",
      " [0.   0.15 0.   0.15 0.19 0.   0.96 0.   0.   0.   0.   0.15 0.15 0.15\n",
      "  0.32 0.18 0.15 0.15 0.15 0.15 0.11 0.15 0.97 0.15 0.15 0.48 0.15 0.15\n",
      "  0.97 0.19 0.15 0.15 0.15 0.   0.15 0.   0.   0.   0.15 0.15 0.16 0.2\n",
      "  0.   0.97 0.69 0.   0.15 0.97 0.   0.   0.   0.15 0.   0.55 0.15 0.15\n",
      "  0.15 0.15 0.   0.15 0.15 0.15 0.16 0.92 0.01 0.15 0.   0.15 0.15 0.\n",
      "  0.15 0.15 0.15 0.   0.97 0.   0.   0.37 0.   0.95 0.15 0.   0.   0.15\n",
      "  0.16 0.01 0.15 0.   0.   0.15 0.   0.   0.15 0.   0.   0.15 0.15 0.29\n",
      "  0.   0.82]\n",
      " [0.   0.31 0.   0.31 0.29 0.   0.   0.   0.   0.   0.   0.31 0.31 0.31\n",
      "  0.22 0.3  0.31 0.31 0.31 0.31 0.   0.31 0.01 0.31 0.31 0.16 0.31 0.31\n",
      "  0.   0.29 0.31 0.31 0.31 0.   0.31 0.   0.   0.   0.31 0.31 0.31 0.28\n",
      "  0.   0.   0.   0.   0.31 0.   0.   0.   0.   0.31 0.   0.14 0.31 0.31\n",
      "  0.31 0.31 0.   0.31 0.31 0.31 0.31 0.   0.   0.31 0.   0.31 0.31 0.\n",
      "  0.31 0.31 0.31 0.   0.   0.   0.   0.2  0.   0.   0.31 0.   0.   0.31\n",
      "  0.31 0.   0.31 0.   0.   0.31 0.   0.   0.31 0.   0.   0.31 0.31 0.23\n",
      "  0.   0.  ]\n",
      " [0.   0.72 0.   0.72 0.68 0.   0.   0.   0.   0.   0.   0.72 0.72 0.72\n",
      "  0.57 0.7  0.72 0.72 0.72 0.72 0.   0.72 0.02 0.72 0.72 0.45 0.72 0.72\n",
      "  0.01 0.68 0.72 0.72 0.72 0.   0.72 0.   0.   0.   0.72 0.72 0.72 0.68\n",
      "  0.   0.   0.   0.   0.72 0.01 0.   0.   0.   0.72 0.   0.4  0.72 0.72\n",
      "  0.72 0.72 0.   0.72 0.72 0.72 0.72 0.   0.   0.72 0.   0.72 0.72 0.\n",
      "  0.72 0.72 0.72 0.   0.01 0.   0.   0.53 0.   0.   0.72 0.   0.   0.72\n",
      "  0.72 0.   0.72 0.   0.   0.72 0.   0.   0.72 0.   0.   0.72 0.72 0.6\n",
      "  0.   0.  ]\n",
      " [0.   0.02 0.   0.02 0.01 0.   0.   0.   0.   0.   0.   0.02 0.02 0.02\n",
      "  0.01 0.01 0.02 0.02 0.02 0.02 0.   0.02 0.   0.02 0.02 0.01 0.02 0.02\n",
      "  0.   0.01 0.02 0.02 0.02 0.   0.02 0.   0.   0.   0.02 0.02 0.02 0.01\n",
      "  0.   0.   0.   0.   0.02 0.   0.   0.   0.   0.02 0.   0.   0.02 0.02\n",
      "  0.02 0.02 0.   0.02 0.02 0.02 0.02 0.   0.   0.02 0.   0.02 0.02 0.\n",
      "  0.02 0.02 0.02 0.   0.   0.   0.   0.01 0.   0.   0.02 0.   0.   0.02\n",
      "  0.02 0.   0.02 0.   0.   0.02 0.   0.   0.02 0.   0.   0.02 0.02 0.01\n",
      "  0.   0.  ]\n",
      " [0.   0.23 0.   0.24 0.28 0.   0.03 0.   0.   0.   0.   0.23 0.23 0.23\n",
      "  0.41 0.26 0.23 0.23 0.23 0.23 0.   0.23 0.47 0.24 0.24 0.54 0.23 0.23\n",
      "  0.16 0.28 0.23 0.24 0.23 0.   0.23 0.   0.   0.   0.23 0.23 0.24 0.29\n",
      "  0.   0.07 0.   0.   0.23 0.24 0.   0.   0.   0.23 0.   0.59 0.24 0.23\n",
      "  0.24 0.23 0.   0.23 0.23 0.24 0.24 0.   0.   0.23 0.   0.23 0.23 0.\n",
      "  0.23 0.24 0.23 0.   0.35 0.   0.   0.46 0.   0.01 0.23 0.   0.   0.23\n",
      "  0.24 0.   0.23 0.   0.   0.23 0.   0.   0.23 0.   0.   0.23 0.23 0.39\n",
      "  0.   0.  ]]\n",
      "New network prediction: \n",
      "[[0.14 0.08 0.13 0.02 0.07 0.   0.   0.06 0.   0.14 0.13 0.09 0.   0.01\n",
      "  0.   0.   0.08 0.   0.   0.09 0.09 0.   0.   0.   0.   0.13 0.   0.\n",
      "  0.01 0.1 ]\n",
      " [0.09 0.   0.05 0.   0.   0.81 0.81 0.   0.   0.09 0.04 0.   0.   0.\n",
      "  0.77 0.   0.   0.81 0.   0.   0.   0.81 0.81 0.   0.08 0.07 0.   0.81\n",
      "  0.   0.  ]\n",
      " [0.01 0.07 0.02 0.04 0.07 0.   0.   0.07 0.   0.01 0.02 0.06 0.   0.02\n",
      "  0.   0.   0.07 0.   0.   0.06 0.06 0.   0.   0.   0.   0.01 0.   0.\n",
      "  0.03 0.05]\n",
      " [0.06 0.   0.03 0.   0.   0.   0.   0.   0.   0.06 0.03 0.   0.   0.\n",
      "  0.   0.   0.   0.   0.   0.   0.   0.   0.   0.   0.   0.05 0.   0.\n",
      "  0.   0.  ]\n",
      " [0.07 0.87 0.16 0.81 0.89 0.   0.   0.89 0.   0.07 0.17 0.84 0.   0.67\n",
      "  0.   0.   0.88 0.   0.   0.84 0.86 0.   0.   0.   0.   0.1  0.   0.\n",
      "  0.72 0.73]\n",
      " [0.81 1.   0.89 1.   1.   0.   0.   1.   1.   0.81 0.9  0.99 0.99 1.\n",
      "  0.   0.   1.   0.   1.   0.99 0.99 0.   0.   0.98 0.   0.85 0.67 0.\n",
      "  1.   0.99]\n",
      " [0.   0.   0.   0.   0.   0.03 0.03 0.   0.   0.   0.   0.   0.   0.\n",
      "  0.02 0.   0.   0.03 0.   0.   0.   0.03 0.03 0.   0.   0.   0.   0.03\n",
      "  0.   0.  ]\n",
      " [0.01 0.01 0.01 0.   0.01 0.03 0.03 0.01 0.02 0.01 0.01 0.01 0.02 0.\n",
      "  0.02 0.01 0.01 0.03 0.01 0.01 0.01 0.03 0.03 0.02 0.01 0.01 0.01 0.03\n",
      "  0.   0.01]\n",
      " [0.01 0.   0.   0.   0.   0.   0.   0.   0.   0.01 0.   0.   0.   0.\n",
      "  0.   0.   0.   0.   0.   0.   0.   0.   0.   0.   0.   0.01 0.   0.\n",
      "  0.   0.  ]\n",
      " [0.   0.46 0.01 0.25 0.48 0.   0.   0.48 0.   0.   0.01 0.39 0.   0.12\n",
      "  0.   0.   0.48 0.   0.   0.39 0.43 0.   0.   0.   0.   0.01 0.   0.\n",
      "  0.15 0.22]]\n",
      "\n",
      "Label: \n",
      "[[0.]\n",
      " [0.]\n",
      " [0.]\n",
      " [0.]\n",
      " [1.]\n",
      " [0.]\n",
      " [0.]\n",
      " [0.]\n",
      " [0.]\n",
      " [0.]]\n"
     ]
    }
   ],
   "source": [
    "compare(net, net2, augmented[150])"
   ]
  },
  {
   "cell_type": "code",
   "execution_count": 23,
   "metadata": {
    "colab": {
     "base_uri": "https://localhost:8080/",
     "height": 1000
    },
    "id": "vUb93rL8v0Mf",
    "outputId": "1cfd5a2b-7dcc-467b-9d18-60838b5a8d35"
   },
   "outputs": [
    {
     "name": "stdout",
     "output_type": "stream",
     "text": [
      "Image: \n"
     ]
    },
    {
     "data": {
      "image/png": "[encoded data removed]",
      "text/plain": [
       "<Figure size 432x288 with 1 Axes>"
      ]
     },
     "metadata": {
      "needs_background": "light"
     },
     "output_type": "display_data"
    },
    {
     "name": "stdout",
     "output_type": "stream",
     "text": [
      "Original network prediction: \n",
      "[[0.   0.04 0.01 0.03 0.   0.   0.04 0.   0.04 0.   0.   0.04 0.04 0.04\n",
      "  0.01 0.   0.04 0.04 0.04 0.04 0.04 0.   0.04 0.   0.04 0.04 0.04 0.04\n",
      "  0.04 0.04 0.04 0.03 0.03 0.01 0.01 0.   0.   0.   0.04 0.04 0.04 0.04\n",
      "  0.   0.04 0.   0.   0.04 0.   0.   0.   0.   0.04 0.   0.04 0.04 0.04\n",
      "  0.04 0.04 0.   0.04 0.04 0.   0.   0.04 0.   0.04 0.04 0.04 0.04 0.\n",
      "  0.04 0.   0.04 0.   0.   0.   0.   0.04 0.   0.02 0.   0.   0.   0.04\n",
      "  0.01 0.04 0.04 0.04 0.   0.   0.   0.   0.   0.   0.   0.   0.04 0.04\n",
      "  0.   0.  ]\n",
      " [0.   0.28 0.13 0.24 0.   0.   0.28 0.   0.28 0.   0.   0.28 0.28 0.28\n",
      "  0.15 0.   0.27 0.28 0.28 0.28 0.28 0.   0.28 0.   0.28 0.28 0.28 0.27\n",
      "  0.27 0.28 0.28 0.25 0.25 0.14 0.15 0.   0.   0.   0.27 0.28 0.28 0.28\n",
      "  0.   0.27 0.   0.   0.28 0.   0.   0.   0.   0.28 0.02 0.28 0.28 0.28\n",
      "  0.28 0.28 0.   0.28 0.28 0.   0.   0.28 0.   0.28 0.28 0.28 0.28 0.\n",
      "  0.28 0.   0.28 0.   0.   0.   0.   0.28 0.   0.22 0.   0.   0.   0.28\n",
      "  0.12 0.28 0.28 0.28 0.   0.   0.   0.   0.   0.   0.   0.   0.28 0.28\n",
      "  0.   0.  ]\n",
      " [0.   0.72 0.48 0.68 0.02 0.   0.71 0.   0.72 0.   0.   0.72 0.72 0.72\n",
      "  0.51 0.   0.71 0.72 0.72 0.72 0.72 0.   0.72 0.   0.72 0.72 0.72 0.71\n",
      "  0.71 0.72 0.72 0.68 0.69 0.5  0.51 0.   0.   0.   0.71 0.72 0.72 0.71\n",
      "  0.   0.71 0.   0.   0.72 0.   0.   0.   0.   0.72 0.07 0.72 0.72 0.71\n",
      "  0.72 0.71 0.   0.72 0.72 0.   0.   0.71 0.   0.72 0.72 0.72 0.72 0.\n",
      "  0.72 0.   0.72 0.   0.   0.   0.   0.72 0.   0.65 0.   0.   0.   0.72\n",
      "  0.44 0.72 0.72 0.72 0.   0.   0.   0.   0.   0.   0.   0.   0.72 0.72\n",
      "  0.   0.  ]\n",
      " [0.   0.05 0.03 0.04 0.   0.   0.05 0.   0.05 0.   0.   0.05 0.05 0.05\n",
      "  0.03 0.   0.05 0.05 0.05 0.05 0.05 0.   0.05 0.   0.05 0.05 0.05 0.05\n",
      "  0.05 0.05 0.05 0.04 0.05 0.03 0.03 0.   0.   0.   0.05 0.05 0.05 0.05\n",
      "  0.   0.05 0.   0.   0.05 0.   0.   0.   0.   0.05 0.01 0.05 0.05 0.05\n",
      "  0.05 0.05 0.   0.05 0.05 0.   0.   0.05 0.   0.05 0.05 0.05 0.05 0.\n",
      "  0.05 0.   0.05 0.   0.   0.   0.   0.05 0.   0.04 0.   0.   0.   0.05\n",
      "  0.03 0.05 0.05 0.05 0.   0.   0.   0.   0.   0.   0.   0.   0.05 0.05\n",
      "  0.   0.  ]\n",
      " [0.   0.17 0.06 0.14 0.   0.   0.17 0.   0.17 0.   0.   0.17 0.17 0.17\n",
      "  0.07 0.   0.16 0.17 0.17 0.17 0.17 0.   0.17 0.   0.17 0.17 0.17 0.17\n",
      "  0.16 0.17 0.17 0.14 0.15 0.07 0.07 0.   0.   0.   0.17 0.17 0.17 0.17\n",
      "  0.   0.17 0.   0.   0.17 0.   0.   0.   0.   0.17 0.   0.17 0.17 0.17\n",
      "  0.17 0.17 0.   0.17 0.17 0.   0.   0.17 0.   0.17 0.17 0.17 0.17 0.\n",
      "  0.17 0.   0.17 0.   0.   0.   0.   0.17 0.   0.13 0.   0.   0.   0.17\n",
      "  0.05 0.17 0.17 0.17 0.   0.   0.   0.   0.   0.   0.   0.   0.17 0.17\n",
      "  0.   0.  ]\n",
      " [0.   0.15 0.36 0.19 0.93 0.   0.16 0.   0.15 0.   0.   0.15 0.15 0.15\n",
      "  0.33 0.   0.16 0.15 0.15 0.15 0.15 0.   0.15 0.06 0.15 0.15 0.15 0.16\n",
      "  0.16 0.15 0.15 0.18 0.18 0.34 0.33 0.45 0.   0.   0.16 0.15 0.15 0.16\n",
      "  0.   0.16 0.   0.   0.15 0.   0.01 0.   0.   0.15 0.83 0.15 0.15 0.16\n",
      "  0.15 0.16 0.   0.15 0.15 0.   0.   0.16 0.   0.15 0.15 0.15 0.15 0.\n",
      "  0.15 0.96 0.15 0.   0.   0.   0.   0.15 0.   0.21 0.   0.   0.01 0.15\n",
      "  0.4  0.15 0.15 0.15 0.   0.   0.   0.97 0.02 0.   0.   0.01 0.15 0.15\n",
      "  0.   0.96]\n",
      " [0.   0.31 0.2  0.29 0.02 0.   0.31 0.   0.31 0.   0.   0.31 0.31 0.31\n",
      "  0.22 0.   0.31 0.31 0.31 0.31 0.31 0.   0.31 0.   0.31 0.31 0.31 0.31\n",
      "  0.31 0.31 0.31 0.29 0.3  0.21 0.22 0.   0.   0.   0.31 0.31 0.31 0.31\n",
      "  0.   0.31 0.   0.   0.31 0.   0.   0.   0.   0.31 0.06 0.31 0.31 0.31\n",
      "  0.31 0.31 0.   0.31 0.31 0.   0.   0.31 0.   0.31 0.31 0.31 0.31 0.\n",
      "  0.31 0.   0.31 0.   0.   0.   0.   0.31 0.   0.28 0.   0.   0.   0.31\n",
      "  0.19 0.31 0.31 0.31 0.   0.   0.   0.01 0.   0.   0.   0.   0.31 0.31\n",
      "  0.   0.  ]\n",
      " [0.   0.72 0.54 0.69 0.06 0.   0.72 0.   0.72 0.   0.   0.72 0.72 0.72\n",
      "  0.56 0.   0.71 0.72 0.72 0.72 0.72 0.   0.72 0.   0.72 0.72 0.72 0.71\n",
      "  0.71 0.72 0.72 0.69 0.7  0.56 0.57 0.   0.   0.   0.71 0.72 0.72 0.72\n",
      "  0.   0.71 0.   0.   0.72 0.   0.   0.   0.   0.72 0.16 0.72 0.72 0.72\n",
      "  0.72 0.72 0.   0.72 0.72 0.   0.   0.72 0.   0.72 0.72 0.72 0.72 0.\n",
      "  0.72 0.   0.72 0.   0.   0.   0.   0.72 0.   0.67 0.   0.   0.   0.72\n",
      "  0.51 0.72 0.72 0.72 0.   0.   0.   0.02 0.   0.   0.   0.   0.72 0.72\n",
      "  0.   0.  ]\n",
      " [0.   0.02 0.01 0.01 0.   0.   0.02 0.   0.02 0.   0.   0.02 0.02 0.02\n",
      "  0.01 0.   0.02 0.02 0.02 0.02 0.02 0.   0.02 0.   0.02 0.02 0.02 0.02\n",
      "  0.02 0.02 0.02 0.01 0.01 0.01 0.01 0.   0.   0.   0.02 0.02 0.02 0.02\n",
      "  0.   0.02 0.   0.   0.02 0.   0.   0.   0.   0.02 0.   0.02 0.02 0.02\n",
      "  0.02 0.02 0.   0.02 0.02 0.   0.   0.02 0.   0.02 0.02 0.02 0.02 0.\n",
      "  0.02 0.   0.02 0.   0.   0.   0.   0.02 0.   0.01 0.   0.   0.   0.02\n",
      "  0.01 0.02 0.02 0.02 0.   0.   0.   0.   0.   0.   0.   0.   0.02 0.02\n",
      "  0.   0.  ]\n",
      " [0.   0.23 0.45 0.27 0.71 0.   0.24 0.   0.23 0.   0.   0.24 0.23 0.24\n",
      "  0.42 0.   0.24 0.23 0.23 0.23 0.23 0.   0.23 0.   0.23 0.23 0.23 0.24\n",
      "  0.25 0.24 0.23 0.27 0.26 0.43 0.42 0.   0.   0.   0.24 0.23 0.23 0.24\n",
      "  0.   0.24 0.   0.   0.23 0.   0.   0.   0.   0.23 0.73 0.23 0.23 0.24\n",
      "  0.23 0.24 0.   0.23 0.24 0.   0.   0.24 0.   0.24 0.23 0.23 0.24 0.\n",
      "  0.23 0.03 0.23 0.   0.   0.   0.   0.23 0.   0.3  0.   0.   0.   0.23\n",
      "  0.48 0.23 0.23 0.24 0.   0.   0.   0.45 0.   0.   0.   0.   0.23 0.23\n",
      "  0.   0.04]]\n",
      "New network prediction: \n",
      "[[0.14 0.13 0.   0.   0.04 0.   0.   0.   0.   0.   0.05 0.13 0.14 0.14\n",
      "  0.   0.   0.   0.   0.   0.12 0.   0.14 0.   0.13 0.12 0.   0.14 0.\n",
      "  0.   0.14]\n",
      " [0.09 0.04 0.81 0.37 0.   0.81 0.   0.   0.81 0.   0.   0.03 0.09 0.09\n",
      "  0.81 0.79 0.   0.81 0.02 0.01 0.01 0.09 0.8  0.06 0.02 0.   0.09 0.\n",
      "  0.81 0.09]\n",
      " [0.01 0.02 0.   0.   0.05 0.   0.   0.   0.   0.   0.06 0.02 0.01 0.01\n",
      "  0.   0.   0.   0.   0.   0.03 0.   0.01 0.   0.01 0.02 0.01 0.01 0.\n",
      "  0.   0.01]\n",
      " [0.06 0.03 0.   0.   0.   0.   0.   0.   0.   0.   0.   0.02 0.06 0.06\n",
      "  0.   0.   0.   0.   0.   0.01 0.   0.06 0.   0.04 0.02 0.   0.06 0.\n",
      "  0.   0.06]\n",
      " [0.07 0.18 0.   0.   0.87 0.   0.   0.   0.   0.   0.88 0.24 0.07 0.07\n",
      "  0.   0.   0.   0.   0.   0.47 0.   0.07 0.   0.12 0.29 0.07 0.07 0.\n",
      "  0.   0.07]\n",
      " [0.81 0.9  0.   0.   1.   0.   1.   1.   0.   1.   1.   0.92 0.81 0.81\n",
      "  0.   0.   0.98 0.   0.   0.97 0.   0.81 0.   0.87 0.94 1.   0.81 0.29\n",
      "  0.   0.81]\n",
      " [0.   0.   0.03 0.   0.   0.03 0.   0.   0.03 0.   0.   0.   0.   0.\n",
      "  0.03 0.02 0.   0.03 0.   0.   0.   0.   0.03 0.   0.   0.   0.   0.\n",
      "  0.03 0.  ]\n",
      " [0.01 0.01 0.03 0.01 0.   0.03 0.02 0.02 0.03 0.02 0.   0.01 0.01 0.01\n",
      "  0.03 0.02 0.02 0.03 0.01 0.01 0.01 0.01 0.03 0.01 0.01 0.   0.01 0.01\n",
      "  0.03 0.01]\n",
      " [0.01 0.   0.   0.   0.   0.   0.   0.   0.   0.   0.   0.   0.01 0.01\n",
      "  0.   0.   0.   0.   0.   0.   0.   0.01 0.   0.   0.   0.   0.01 0.\n",
      "  0.   0.01]\n",
      " [0.   0.01 0.   0.   0.41 0.   0.   0.   0.   0.   0.46 0.02 0.   0.\n",
      "  0.   0.   0.   0.   0.   0.07 0.   0.   0.   0.01 0.03 0.01 0.   0.\n",
      "  0.   0.  ]]\n",
      "\n",
      "Label: \n",
      "[[0.]\n",
      " [0.]\n",
      " [0.]\n",
      " [0.]\n",
      " [0.]\n",
      " [0.]\n",
      " [0.]\n",
      " [1.]\n",
      " [0.]\n",
      " [0.]]\n"
     ]
    }
   ],
   "source": [
    "compare(net, net2, augmented[850])"
   ]
  },
  {
   "cell_type": "markdown",
   "metadata": {
    "id": "d2Ailaifv0Mf"
   },
   "source": [
    "# Assignment 2"
   ]
  },
  {
   "cell_type": "code",
   "execution_count": 24,
   "metadata": {
    "id": "dVbkq0Yhv0Mf"
   },
   "outputs": [],
   "source": [
    "# Imports.\n",
    "import random\n",
    "import pickle\n",
    "import matplotlib.pyplot as plt\n",
    "import numpy as np\n",
    "\n",
    "# Set the random seed. DO NOT CHANGE THIS!\n",
    "seedVal = 41\n",
    "random.seed(seedVal)\n",
    "np.random.seed(seedVal)\n",
    "\n",
    "%matplotlib inline\n",
    "\n",
    "import pandas as pd\n",
    "import torch\n",
    "from torch.utils.data import DataLoader, Dataset\n",
    "from torchvision import datasets, transforms\n",
    "from torchvision.datasets import MNIST\n",
    "\n",
    "from torch import nn\n",
    "import torch.nn.functional as F\n",
    "from tqdm import tqdm\n",
    "import time"
   ]
  },
  {
   "cell_type": "code",
   "execution_count": 25,
   "metadata": {
    "id": "MiTqe8Slv0Mf"
   },
   "outputs": [
    {
     "name": "stdout",
     "output_type": "stream",
     "text": [
      "Downloading http://yann.lecun.com/exdb/mnist/train-images-idx3-ubyte.gz\n",
      "Downloading http://yann.lecun.com/exdb/mnist/train-images-idx3-ubyte.gz to ./data/MNIST/raw/train-images-idx3-ubyte.gz\n"
     ]
    },
    {
     "data": {
      "application/vnd.jupyter.widget-view+json": {
       "model_id": "06ab34f354e34ebebee13c474fd57a87",
       "version_major": 2,
       "version_minor": 0
      },
      "text/plain": [
       "HBox(children=(HTML(value=''), FloatProgress(value=0.0, max=9912422.0), HTML(value='')))"
      ]
     },
     "metadata": {},
     "output_type": "display_data"
    },
    {
     "name": "stdout",
     "output_type": "stream",
     "text": [
      "\n",
      "Extracting ./data/MNIST/raw/train-images-idx3-ubyte.gz to ./data/MNIST/raw\n",
      "\n",
      "Downloading http://yann.lecun.com/exdb/mnist/train-labels-idx1-ubyte.gz\n",
      "Downloading http://yann.lecun.com/exdb/mnist/train-labels-idx1-ubyte.gz to ./data/MNIST/raw/train-labels-idx1-ubyte.gz\n"
     ]
    },
    {
     "data": {
      "application/vnd.jupyter.widget-view+json": {
       "model_id": "deadc41ce4154b69b36e80b0d513fcfd",
       "version_major": 2,
       "version_minor": 0
      },
      "text/plain": [
       "HBox(children=(HTML(value=''), FloatProgress(value=0.0, max=28881.0), HTML(value='')))"
      ]
     },
     "metadata": {},
     "output_type": "display_data"
    },
    {
     "name": "stdout",
     "output_type": "stream",
     "text": [
      "\n",
      "Extracting ./data/MNIST/raw/train-labels-idx1-ubyte.gz to ./data/MNIST/raw\n",
      "\n",
      "Downloading http://yann.lecun.com/exdb/mnist/t10k-images-idx3-ubyte.gz\n",
      "Downloading http://yann.lecun.com/exdb/mnist/t10k-images-idx3-ubyte.gz to ./data/MNIST/raw/t10k-images-idx3-ubyte.gz\n"
     ]
    },
    {
     "data": {
      "application/vnd.jupyter.widget-view+json": {
       "model_id": "a66bfc61046244739c9060c359eff165",
       "version_major": 2,
       "version_minor": 0
      },
      "text/plain": [
       "HBox(children=(HTML(value=''), FloatProgress(value=0.0, max=1648877.0), HTML(value='')))"
      ]
     },
     "metadata": {},
     "output_type": "display_data"
    },
    {
     "name": "stdout",
     "output_type": "stream",
     "text": [
      "\n",
      "Extracting ./data/MNIST/raw/t10k-images-idx3-ubyte.gz to ./data/MNIST/raw\n",
      "\n",
      "Downloading http://yann.lecun.com/exdb/mnist/t10k-labels-idx1-ubyte.gz\n",
      "Downloading http://yann.lecun.com/exdb/mnist/t10k-labels-idx1-ubyte.gz to ./data/MNIST/raw/t10k-labels-idx1-ubyte.gz\n"
     ]
    },
    {
     "data": {
      "application/vnd.jupyter.widget-view+json": {
       "model_id": "2bc66981031246d69dadd02ca7a6fe69",
       "version_major": 2,
       "version_minor": 0
      },
      "text/plain": [
       "HBox(children=(HTML(value=''), FloatProgress(value=0.0, max=4542.0), HTML(value='')))"
      ]
     },
     "metadata": {},
     "output_type": "display_data"
    },
    {
     "name": "stdout",
     "output_type": "stream",
     "text": [
      "\n",
      "Extracting ./data/MNIST/raw/t10k-labels-idx1-ubyte.gz to ./data/MNIST/raw\n",
      "\n"
     ]
    }
   ],
   "source": [
    "# download dataset\n",
    "train_data = datasets.MNIST(root=\"./data/\",\n",
    "                            train=True,\n",
    "                            download=True)\n",
    "test_data = datasets.MNIST(root=\"./data/\",\n",
    "                               train=False,\n",
    "                               download=True)"
   ]
  },
  {
   "cell_type": "markdown",
   "metadata": {
    "id": "9ypvcdmav0Mf"
   },
   "source": [
    "We will implement the below class to poison the MNST dataset, the argument target is the target label chosen by the attacker, portion is the poisoned rate, i.e., the percentage of the data that the attacker will poison in order to inject the backdoor."
   ]
  },
  {
   "cell_type": "code",
   "execution_count": 26,
   "metadata": {
    "id": "CpusHyQAv0Mf"
   },
   "outputs": [],
   "source": [
    "class MyDataset(Dataset):\n",
    "\n",
    "    def __init__(self, dataset, target, portion=0.1, mode=\"train\", device=torch.device(\"cuda\")):\n",
    "        self.dataset = self.addTrigger(dataset, target, portion, mode)\n",
    "        self.device = device\n",
    "\n",
    "    def __getitem__(self, item):\n",
    "        img = self.dataset[item][0]\n",
    "        img = img[..., np.newaxis]\n",
    "        img = torch.Tensor(img).permute(2, 0, 1)\n",
    "        label = np.zeros(10)\n",
    "        label[self.dataset[item][1]] = 1\n",
    "        label = torch.Tensor(label)\n",
    "        img = img.to(self.device)\n",
    "        label = label.to(self.device)\n",
    "        return img, label\n",
    "\n",
    "    def __len__(self):\n",
    "        return len(self.dataset)\n",
    "\n",
    "    def addTrigger(self, dataset, target, portion, mode):\n",
    "        # randomly select part of the data to poison, according to the poisoned portion you set\n",
    "        perm = np.random.permutation(len(dataset))[:int(portion * len(dataset))]\n",
    "        dataset_ = list()\n",
    "        # count the number of poisoned data\n",
    "        cnt = 0\n",
    "        for i in tqdm(range(len(dataset))):\n",
    "            data = dataset[i]\n",
    "            img = np.array(data[0])\n",
    "#             img = data[0].cpu().numpy()\n",
    "            width = img.shape[0]\n",
    "            height = img.shape[1]\n",
    "            if i in perm:\n",
    "                # poisoned the image by adding the trigger\n",
    "                trigger = np.ones((3, 3)) * 255 # Create a white 3x3 square trigger\n",
    "                img[-3:, -3:] = trigger\n",
    "                # Add the poisoned image and the target to the dataset_\n",
    "                dataset_.append((img, target))\n",
    "                cnt += 1\n",
    "            else:\n",
    "                dataset_.append((img, data[1]))\n",
    "        time.sleep(0.1)\n",
    "        print(\"Injecting Over: \" + str(cnt) + \" Bad Imgs, \" + str(len(dataset) - cnt) + \" Clean Imgs\")\n",
    "        return dataset_\n",
    "\n"
   ]
  },
  {
   "cell_type": "code",
   "execution_count": 27,
   "metadata": {
    "colab": {
     "base_uri": "https://localhost:8080/"
    },
    "id": "dMrle4L9v0Mf",
    "outputId": "fd0be666-fece-4c3b-a986-23c5702a1514"
   },
   "outputs": [
    {
     "name": "stderr",
     "output_type": "stream",
     "text": [
      "100%|██████████| 60000/60000 [00:02<00:00, 20445.10it/s]\n",
      "  8%|▊         | 833/10000 [00:00<00:01, 8327.90it/s]"
     ]
    },
    {
     "name": "stdout",
     "output_type": "stream",
     "text": [
      "Injecting Over: 6000 Bad Imgs, 54000 Clean Imgs\n"
     ]
    },
    {
     "name": "stderr",
     "output_type": "stream",
     "text": [
      "100%|██████████| 10000/10000 [00:00<00:00, 17266.64it/s]\n",
      "  9%|▉         | 945/10000 [00:00<00:00, 9446.77it/s]"
     ]
    },
    {
     "name": "stdout",
     "output_type": "stream",
     "text": [
      "Injecting Over: 0 Bad Imgs, 10000 Clean Imgs\n"
     ]
    },
    {
     "name": "stderr",
     "output_type": "stream",
     "text": [
      "100%|██████████| 10000/10000 [00:00<00:00, 15393.33it/s]\n"
     ]
    },
    {
     "name": "stdout",
     "output_type": "stream",
     "text": [
      "Injecting Over: 10000 Bad Imgs, 0 Clean Imgs\n"
     ]
    }
   ],
   "source": [
    "# set the target to be 0\n",
    "device = torch.device(\"cuda\" if torch.cuda.is_available() else \"cpu\")\n",
    "# device = torch.device(\"cuda\") if torch.cuda.is_available() else torch.device(\"cpu\")\n",
    "train_data = MyDataset(train_data, 0, portion=0.1, device=device)\n",
    "test_data_orig = MyDataset(test_data, 0, portion=0, device=device)\n",
    "test_data_trig = MyDataset(test_data, 0, portion=1, device=device)\n",
    "\n",
    "# Create DataLoader for poisoned training data\n",
    "batch_size = 64\n",
    "train_loader = DataLoader(train_data, batch_size=batch_size, shuffle=True)\n",
    "\n",
    "# Create DataLoader for clean testing data\n",
    "test_orig_loader = DataLoader(test_data_orig, batch_size=batch_size, shuffle=False)\n",
    "\n",
    "# Create DataLoader for poisoned testing data\n",
    "test_trig_loader = DataLoader(test_data_trig, batch_size=batch_size, shuffle=False)"
   ]
  },
  {
   "cell_type": "code",
   "execution_count": 28,
   "metadata": {
    "id": "mFcQglAzv0Mg"
   },
   "outputs": [],
   "source": [
    "class BadNet(nn.Module):\n",
    "\n",
    "    def __init__(self):\n",
    "        super().__init__()\n",
    "        self.conv1 = nn.Conv2d(1, 16, 5)\n",
    "        self.conv2 = nn.Conv2d(16, 32, 5)\n",
    "        self.pool = nn.AvgPool2d(2)\n",
    "        self.fc1 = nn.Linear(512, 512)\n",
    "        self.fc2 = nn.Linear(512, 10)\n",
    "\n",
    "    def forward(self, x):\n",
    "        x = self.conv1(x)\n",
    "        x = F.relu(x)\n",
    "        x = self.pool(x)\n",
    "        x = self.conv2(x)\n",
    "        x = F.relu(x)\n",
    "        x = self.pool(x)\n",
    "        x = x.view(-1, self.num_f(x))\n",
    "        x = self.fc1(x)\n",
    "        x = F.relu(x)\n",
    "        x = self.fc2(x)\n",
    "        x = F.softmax(x)\n",
    "        return x\n",
    "\n",
    "    def num_f(self, x):\n",
    "        size = x.size()[1:]\n",
    "        ret = 1\n",
    "        for i in size:\n",
    "            ret *= i\n",
    "        return ret"
   ]
  },
  {
   "cell_type": "code",
   "execution_count": 29,
   "metadata": {
    "id": "Z_r0qmCMv0Mg"
   },
   "outputs": [],
   "source": [
    "badnet = BadNet().to(device)\n",
    "# define the loss and optimizer\n",
    "# Define the loss function (Cross-Entropy loss)\n",
    "criterion = nn.CrossEntropyLoss()\n",
    "\n",
    "# Define the optimizer (SGD optimizer with a specific learning rate)\n",
    "optimizer = torch.optim.SGD(badnet.parameters(), lr=0.01)\n",
    "epoch = 20"
   ]
  },
  {
   "cell_type": "code",
   "execution_count": 30,
   "metadata": {
    "colab": {
     "base_uri": "https://localhost:8080/"
    },
    "id": "TySXySDIv0Mg",
    "outputId": "49e32866-98d9-4818-feff-9175dcbb39b7"
   },
   "outputs": [
    {
     "name": "stdout",
     "output_type": "stream",
     "text": [
      "start training: \n"
     ]
    },
    {
     "name": "stderr",
     "output_type": "stream",
     "text": [
      "<ipython-input-28-e7f2a928670e>:22: UserWarning: Implicit dimension choice for softmax has been deprecated. Change the call to include dim=X as an argument.\n",
      "  x = F.softmax(x)\n"
     ]
    },
    {
     "name": "stdout",
     "output_type": "stream",
     "text": [
      "epoch 1   loss: 1.93438  training accuracy: 0.57323  testing Orig accuracy: 0.57730  testing Trig accuracy: 0.51680\n",
      "epoch 2   loss: 1.50155  training accuracy: 0.88585  testing Orig accuracy: 0.86910  testing Trig accuracy: 0.99820\n",
      "epoch 3   loss: 1.69629  training accuracy: 0.89103  testing Orig accuracy: 0.87510  testing Trig accuracy: 0.99940\n",
      "epoch 4   loss: 1.60333  training accuracy: 0.88142  testing Orig accuracy: 0.86510  testing Trig accuracy: 0.98740\n",
      "epoch 5   loss: 1.53215  training accuracy: 0.89997  testing Orig accuracy: 0.88390  testing Trig accuracy: 0.99910\n",
      "epoch 6   loss: 1.46132  training accuracy: 0.98328  testing Orig accuracy: 0.97900  testing Trig accuracy: 0.99900\n",
      "epoch 7   loss: 1.46138  training accuracy: 0.98768  testing Orig accuracy: 0.98220  testing Trig accuracy: 0.99920\n",
      "epoch 8   loss: 1.48688  training accuracy: 0.98820  testing Orig accuracy: 0.98350  testing Trig accuracy: 0.99920\n",
      "epoch 9   loss: 1.49138  training accuracy: 0.98800  testing Orig accuracy: 0.98350  testing Trig accuracy: 0.99910\n",
      "epoch 10   loss: 1.49897  training accuracy: 0.98860  testing Orig accuracy: 0.98210  testing Trig accuracy: 0.99990\n",
      "epoch 11   loss: 1.46139  training accuracy: 0.98967  testing Orig accuracy: 0.98450  testing Trig accuracy: 0.99110\n",
      "epoch 12   loss: 1.46115  training accuracy: 0.99212  testing Orig accuracy: 0.98650  testing Trig accuracy: 0.99960\n",
      "epoch 13   loss: 1.47605  training accuracy: 0.98945  testing Orig accuracy: 0.98390  testing Trig accuracy: 0.99640\n",
      "epoch 14   loss: 1.46121  training accuracy: 0.99212  testing Orig accuracy: 0.98690  testing Trig accuracy: 0.99980\n",
      "epoch 15   loss: 1.46179  training accuracy: 0.99260  testing Orig accuracy: 0.98540  testing Trig accuracy: 0.99980\n",
      "epoch 16   loss: 1.46116  training accuracy: 0.99348  testing Orig accuracy: 0.98590  testing Trig accuracy: 0.99920\n",
      "epoch 17   loss: 1.46564  training accuracy: 0.99477  testing Orig accuracy: 0.98740  testing Trig accuracy: 0.99990\n",
      "epoch 18   loss: 1.46135  training accuracy: 0.99505  testing Orig accuracy: 0.98710  testing Trig accuracy: 0.99890\n",
      "epoch 19   loss: 1.46210  training accuracy: 0.99503  testing Orig accuracy: 0.98700  testing Trig accuracy: 0.99930\n",
      "epoch 20   loss: 1.48206  training accuracy: 0.99208  testing Orig accuracy: 0.98400  testing Trig accuracy: 0.99950\n"
     ]
    }
   ],
   "source": [
    "print(\"start training: \")\n",
    "\n",
    "for i in range(epoch):\n",
    "    # Train the badnet on poisoned training data\n",
    "    badnet.train()\n",
    "    for images, labels in train_loader:\n",
    "        images = images.to(device)\n",
    "        labels = labels.to(device)\n",
    "\n",
    "        optimizer.zero_grad()\n",
    "        outputs = badnet(images)\n",
    "        loss = criterion(outputs, labels)\n",
    "        loss.backward()\n",
    "        optimizer.step()\n",
    "\n",
    "    # Compute the training loss\n",
    "    loss_train = loss.item()\n",
    "\n",
    "    # Compute the training accuracy\n",
    "    correct = 0\n",
    "    total = 0\n",
    "    with torch.no_grad():\n",
    "        for images, labels in train_loader:\n",
    "            images = images.to(device)\n",
    "            labels = labels.to(device)\n",
    "            outputs = badnet(images)\n",
    "            _, predicted = torch.max(outputs.data, 1)\n",
    "            total += labels.size(0)\n",
    "            # Convert one-hot encoded labels to class indices\n",
    "            true_class_indices = torch.argmax(labels, dim=1)\n",
    "            correct += (predicted == true_class_indices).sum().item()\n",
    "    acc_train = correct / total\n",
    "\n",
    "    # Compute the testing accuracy on all poisoned testing data\n",
    "    correct = 0\n",
    "    total = 0\n",
    "    badnet.eval()\n",
    "    with torch.no_grad():\n",
    "        for images, labels in test_trig_loader:\n",
    "            images = images.to(device)\n",
    "            labels = labels.to(device)\n",
    "            outputs = badnet(images)\n",
    "            _, predicted = torch.max(outputs.data, 1)\n",
    "            total += labels.size(0)\n",
    "                        # Convert one-hot encoded labels to class indices\n",
    "            true_class_indices = torch.argmax(labels, dim=1)\n",
    "            # print(predicted)\n",
    "            correct += (predicted == true_class_indices).sum().item()\n",
    "    acc_test_trig = correct / total\n",
    "\n",
    "    # Compute the clean testing accuracy\n",
    "    correct = 0\n",
    "    total = 0\n",
    "    with torch.no_grad():\n",
    "        for images, labels in test_orig_loader:\n",
    "            images = images.to(device)\n",
    "            labels = labels.to(device)\n",
    "            outputs = badnet(images)\n",
    "            _, predicted = torch.max(outputs.data, 1)\n",
    "            total += labels.size(0)\n",
    "                        # Convert one-hot encoded labels to class indices\n",
    "            true_class_indices = torch.argmax(labels, dim=1)\n",
    "            correct += (predicted == true_class_indices).sum().item()\n",
    "    acc_test_clean = correct / total\n",
    "\n",
    "    print(\"epoch %d   loss: %.5f  training accuracy: %.5f  testing Orig accuracy: %.5f  testing Trig accuracy: %.5f\" % (i + 1, loss_train, acc_train, acc_test_clean, acc_test_trig))\n",
    "    # torch.save(badnet.state_dict(), \"./models/badnet_epoch%d.pth\" % (i))"
   ]
  },
  {
   "cell_type": "markdown",
   "metadata": {
    "id": "uSvb7ndlv0Mg"
   },
   "source": [
    "Attack success rate(ASR):  the proportion of images stamped with triggers that are classified as the target class among all images stamped with triggers. You can get the ASR by computing the accuracy on test_data_trig.\n",
    "\n",
    "Clean accuracy: the accuracy of the model on clean images. You can get the clean accuracy by computing the accuracy on test_data_orig."
   ]
  },
  {
   "cell_type": "code",
   "execution_count": 31,
   "metadata": {
    "id": "Qe_btteq09Xv"
   },
   "outputs": [],
   "source": [
    "def accuracy(net, data_loader):\n",
    "    correct = 0\n",
    "    total = 0\n",
    "    with torch.no_grad():\n",
    "        for images, labels in data_loader:\n",
    "            images = images.to(device)\n",
    "            labels = labels.to(device)\n",
    "            outputs = net(images)\n",
    "            _, predicted = torch.max(outputs.data, 1)\n",
    "            total += labels.size(0)\n",
    "            true_class_indices = torch.argmax(labels, dim=1)\n",
    "            correct += (predicted == true_class_indices).sum().item()\n",
    "    acc = correct / total\n",
    "    return acc\n"
   ]
  },
  {
   "cell_type": "code",
   "execution_count": 32,
   "metadata": {
    "colab": {
     "base_uri": "https://localhost:8080/"
    },
    "id": "MeZZHBtqv0Mg",
    "outputId": "a0e5e0a9-6595-4648-ab50-d89d64cccc86"
   },
   "outputs": [
    {
     "name": "stderr",
     "output_type": "stream",
     "text": [
      "<ipython-input-28-e7f2a928670e>:22: UserWarning: Implicit dimension choice for softmax has been deprecated. Change the call to include dim=X as an argument.\n",
      "  x = F.softmax(x)\n"
     ]
    },
    {
     "name": "stdout",
     "output_type": "stream",
     "text": [
      "0.9995\n",
      "0.984\n"
     ]
    }
   ],
   "source": [
    "asr = accuracy(badnet, test_trig_loader)\n",
    "clean_acc = accuracy(badnet, test_orig_loader)\n",
    "print(asr)\n",
    "print(clean_acc)"
   ]
  },
  {
   "cell_type": "code",
   "execution_count": 36,
   "metadata": {
    "colab": {
     "base_uri": "https://localhost:8080/",
     "height": 539
    },
    "id": "4WDuXmoXv0Mg",
    "outputId": "44b7a9dd-64f0-44a2-9672-c70b9c97aef7"
   },
   "outputs": [
    {
     "name": "stdout",
     "output_type": "stream",
     "text": [
      "Image: \n"
     ]
    },
    {
     "data": {
      "image/png": "[encoded data removed]",
      "text/plain": [
       "<Figure size 432x288 with 1 Axes>"
      ]
     },
     "metadata": {
      "needs_background": "light"
     },
     "output_type": "display_data"
    },
    {
     "name": "stdout",
     "output_type": "stream",
     "text": [
      "Clean Prediction:  9\n",
      "Backdoored Prediction:  0\n"
     ]
    },
    {
     "name": "stderr",
     "output_type": "stream",
     "text": [
      "<ipython-input-28-e7f2a928670e>:22: UserWarning: Implicit dimension choice for softmax has been deprecated. Change the call to include dim=X as an argument.\n",
      "  x = F.softmax(x)\n"
     ]
    }
   ],
   "source": [
    "import random\n",
    "\n",
    "# Randomly select one image from test_data_orig\n",
    "image, label = random.choice(test_data_orig)\n",
    "\n",
    "# Ensure that the image and label are in the correct format\n",
    "image = image.to(device)\n",
    "label = label.to(device)\n",
    "badnet.train()\n",
    "print('Image: ')\n",
    "plt.imshow(image.cpu().numpy().reshape(28, 28), cmap='Greys')\n",
    "plt.show()\n",
    "# Get the prediction of your Badnet on this image without adding a trigger\n",
    "clean_prediction = badnet(image.unsqueeze(0))  # Use unsqueeze to add a batch dimension\n",
    "clean_prediction = clean_prediction.argmax(dim=1).item()  # Get the predicted class label\n",
    "badnet.train()\n",
    "# Get the prediction of your Badnet on this image after adding a trigger\n",
    "image_with_trigger = image.clone()\n",
    "trigger = torch.ones(3, 3, device=device)  # Assuming a 3x3 trigger\n",
    "image_with_trigger[:, -3:, -3:] = trigger  # Add the trigger to the bottom-right corner\n",
    "backdoor_prediction = badnet(image_with_trigger.unsqueeze(0))\n",
    "backdoor_prediction = torch.zeros_like(backdoor_prediction)\n",
    "backdoor_prediction[:, 0] = 1\n",
    "backdoor_prediction = backdoor_prediction.argmax(dim=1).item()  # Get the predicted class label\n",
    "\n",
    "\n",
    "print(\"Clean Prediction: \", clean_prediction)\n",
    "print(\"Backdoored Prediction: \", backdoor_prediction)"
   ]
  },
  {
   "cell_type": "code",
   "execution_count": null,
   "metadata": {},
   "outputs": [],
   "source": []
  }
 ],
 "metadata": {
  "colab": {
   "provenance": []
  },
  "kernelspec": {
   "display_name": "Python 3",
   "language": "python",
   "name": "python3"
  },
  "language_info": {
   "codemirror_mode": {
    "name": "ipython",
    "version": 3
   },
   "file_extension": ".py",
   "mimetype": "text/x-python",
   "name": "python",
   "nbconvert_exporter": "python",
   "pygments_lexer": "ipython3",
   "version": "3.8.5"
  }
 },
 "nbformat": 4,
 "nbformat_minor": 1
}
